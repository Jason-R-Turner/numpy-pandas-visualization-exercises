{
 "cells": [
  {
   "cell_type": "code",
   "execution_count": 14,
   "id": "01537ae6",
   "metadata": {},
   "outputs": [
    {
     "ename": "SyntaxError",
     "evalue": "invalid syntax (3679165862.py, line 50)",
     "output_type": "error",
     "traceback": [
      "\u001b[0;36m  File \u001b[0;32m\"/var/folders/tg/c6tcjwk13mj583lxrf25k3jm0000gn/T/ipykernel_25999/3679165862.py\"\u001b[0;36m, line \u001b[0;32m50\u001b[0m\n\u001b[0;31m    y = [math.log(n) for n > 0 in x]\u001b[0m\n\u001b[0m                                   ^\u001b[0m\n\u001b[0;31mSyntaxError\u001b[0m\u001b[0;31m:\u001b[0m invalid syntax\n"
     ]
    }
   ],
   "source": [
    "import matplotlib.pyplot as plt\n",
    "import math as math\n",
    "\n",
    "# 5. Make a new Jupyter notebook named big_o_notation.ipynb\n",
    "# • Title your chart \"Big O Notation\"\n",
    "# • Label your x axis \"Elements\"\n",
    "# • Label your y axis \"Operations\"\n",
    "# • Label your curves or make a legend for the curves\n",
    "# • Use LaTex notation where possible\n",
    "\n",
    "#\n",
    "# x = [4, 8, 12, 16]\n",
    "# y = [0n + 1]\n",
    "\n",
    "# plt.plot(x, y, label = '$0n + 1')\n",
    "\n",
    "# x = [0, .1, .5, 1, 1.5, 2]\n",
    "# y = [x**3 for x in x]\n",
    "\n",
    "# plt.plot(x, y, label='$x^3$')\n",
    "\n",
    "# x = [-3, -2, -1, -.5, -.1,0, .1, .5, 1, 1.5, 2, 2.5, 3 ]\n",
    "# y = [2**x for x in x]\n",
    "\n",
    "# plt.plot(x,y, label='$2^x$')\n",
    "\n",
    "# x = [0, 3, 6, 9, 12, 15]\n",
    "# y = [1/(x + 1) for x in x]\n",
    "\n",
    "# plt.plot(x, y, label='$1/(x + 1)$')\n",
    "\n",
    "\n",
    "# plt.legend(loc='upper right')\n",
    "# plt.title('Big O Notation')\n",
    "# plt.xlabel('Elements')\n",
    "# plt.ylabel('Operations')\n",
    "# #\n",
    "\n",
    "\n",
    "\n",
    "\n",
    "# Curves to graph\n",
    "x = range(-20, 81, 5)\n",
    "# • y = 0n + 1 and label the curve \"O(1)\"\n",
    "y = [0*n + 1 for n in x]\n",
    "plt.plot(x, y)\n",
    "plt.show()\n",
    "\n",
    "# • y = log(n) and label the curve \"O(log n)\"\n",
    "y = [math.log(n) for n in x]\n",
    "# Got math domain error because you can't take the log of a negative number\n",
    "plt.plot(x, y)\n",
    "plt.show()\n",
    "\n",
    "# • y = n and label the curve \"O(n)\"\n",
    "\n",
    "\n",
    "# • y = n∗log(n) and label it \"O(n log n)\"\n",
    "\n",
    "\n",
    "# • y = n**2 and label it \"O(n^2)\"\n",
    "\n",
    "\n",
    "# • y = 2**n and label it \"O(2^n)\"\n",
    "\n",
    "\n",
    "# • y = n! and label it \"O(n!)\"\n",
    "# #y = [math.factorial(x) for x in x]\n",
    "\n",
    "# • y = n^n and label it \"O(n^n)\"\n",
    "\n",
    "# title and x & y label code can come before or after plot\n",
    "\n",
    "# #plt.plot(x, y, label = '$\\mathcal[o](2^[x])$')\n",
    "\n",
    "# 6. Bonus Write the code necessary to write your name on a chart. Use box letters.\n",
    "\n",
    "# 7. Bonus: use curves for letters in your name that have curves in them."
   ]
  },
  {
   "cell_type": "code",
   "execution_count": 9,
   "id": "149a20f0",
   "metadata": {},
   "outputs": [
    {
     "name": "stdout",
     "output_type": "stream",
     "text": [
      "[-20, -15, -10, -5, 0, 5, 10, 15, 20, 25, 30, 35, 40, 45, 50, 55, 60, 65, 70, 75, 80]\n"
     ]
    }
   ],
   "source": [
    "x = range(-20, 81, 5)\n",
    "print(x)"
   ]
  },
  {
   "cell_type": "code",
   "execution_count": 16,
   "id": "283e7bb2",
   "metadata": {},
   "outputs": [
    {
     "ename": "NameError",
     "evalue": "name 'σ' is not defined",
     "output_type": "error",
     "traceback": [
      "\u001b[0;31m---------------------------------------------------------------------------\u001b[0m",
      "\u001b[0;31mNameError\u001b[0m                                 Traceback (most recent call last)",
      "\u001b[0;32m/var/folders/tg/c6tcjwk13mj583lxrf25k3jm0000gn/T/ipykernel_25999/2298040387.py\u001b[0m in \u001b[0;36m<module>\u001b[0;34m\u001b[0m\n\u001b[0;32m----> 1\u001b[0;31m \u001b[0mσ\u001b[0m\u001b[0;34m\u001b[0m\u001b[0;34m\u001b[0m\u001b[0m\n\u001b[0m",
      "\u001b[0;31mNameError\u001b[0m: name 'σ' is not defined"
     ]
    }
   ],
   "source": [
    "σ"
   ]
  }
 ],
 "metadata": {
  "kernelspec": {
   "display_name": "Python 3 (ipykernel)",
   "language": "python",
   "name": "python3"
  },
  "language_info": {
   "codemirror_mode": {
    "name": "ipython",
    "version": 3
   },
   "file_extension": ".py",
   "mimetype": "text/x-python",
   "name": "python",
   "nbconvert_exporter": "python",
   "pygments_lexer": "ipython3",
   "version": "3.9.7"
  }
 },
 "nbformat": 4,
 "nbformat_minor": 5
}
