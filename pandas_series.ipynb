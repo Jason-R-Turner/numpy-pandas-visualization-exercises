{
 "cells": [
  {
   "cell_type": "code",
   "execution_count": 1,
   "id": "2d7eb4e5",
   "metadata": {},
   "outputs": [
    {
     "data": {
      "text/plain": [
       "17"
      ]
     },
     "execution_count": 1,
     "metadata": {},
     "output_type": "execute_result"
    }
   ],
   "source": [
    "import numpy as np\n",
    "import pandas as pd\n",
    "\n",
    "import matplotlib.pyplot as plt\n",
    "\n",
    "fruits_series = pd.Series([\"kiwi\", \"mango\", \"strawberry\", \"pineapple\", \"gala apple\", \"honeycrisp apple\", \"tomato\", \"watermelon\", \"honeydew\", \"kiwi\", \"kiwi\", \"kiwi\", \"mango\", \"blueberry\", \"blackberry\", \"gooseberry\", \"papaya\"])\n",
    "\n",
    "# Determine the number of elements in fruits.\n",
    "fruits_series.size\n",
    "\n",
    "# Rev can use .shape too"
   ]
  },
  {
   "cell_type": "code",
   "execution_count": 2,
   "id": "acee52fb",
   "metadata": {},
   "outputs": [
    {
     "data": {
      "text/plain": [
       "RangeIndex(start=0, stop=17, step=1)"
      ]
     },
     "execution_count": 2,
     "metadata": {},
     "output_type": "execute_result"
    }
   ],
   "source": [
    "# 2. Output only the index from fruits.\n",
    "fruits_series.index"
   ]
  },
  {
   "cell_type": "code",
   "execution_count": 3,
   "id": "4ffd39d4",
   "metadata": {},
   "outputs": [
    {
     "data": {
      "text/plain": [
       "array(['kiwi', 'mango', 'strawberry', 'pineapple', 'gala apple',\n",
       "       'honeycrisp apple', 'tomato', 'watermelon', 'honeydew', 'kiwi',\n",
       "       'kiwi', 'kiwi', 'mango', 'blueberry', 'blackberry', 'gooseberry',\n",
       "       'papaya'], dtype=object)"
      ]
     },
     "execution_count": 3,
     "metadata": {},
     "output_type": "execute_result"
    }
   ],
   "source": [
    "# 3. Output only the values from fruits.\n",
    "fruits_series.values"
   ]
  },
  {
   "cell_type": "code",
   "execution_count": 4,
   "id": "86a87f76",
   "metadata": {},
   "outputs": [
    {
     "data": {
      "text/plain": [
       "dtype('O')"
      ]
     },
     "execution_count": 4,
     "metadata": {},
     "output_type": "execute_result"
    }
   ],
   "source": [
    "# 4. Confirm the data type of the values in fruits.\n",
    "fruits_series.dtype"
   ]
  },
  {
   "cell_type": "code",
   "execution_count": 5,
   "id": "e2f2e26c",
   "metadata": {},
   "outputs": [
    {
     "data": {
      "text/plain": [
       "0          kiwi\n",
       "1         mango\n",
       "2    strawberry\n",
       "3     pineapple\n",
       "4    gala apple\n",
       "dtype: object"
      ]
     },
     "execution_count": 5,
     "metadata": {},
     "output_type": "execute_result"
    }
   ],
   "source": [
    "# 5. Output only the first five values from fruits. Output the last three values. Output two random values from fruits.\n",
    "fruits_series.head(5)"
   ]
  },
  {
   "cell_type": "code",
   "execution_count": 6,
   "id": "3bc7d3e2",
   "metadata": {},
   "outputs": [
    {
     "data": {
      "text/plain": [
       "14    blackberry\n",
       "15    gooseberry\n",
       "16        papaya\n",
       "dtype: object"
      ]
     },
     "execution_count": 6,
     "metadata": {},
     "output_type": "execute_result"
    }
   ],
   "source": [
    "fruits_series.tail(3)"
   ]
  },
  {
   "cell_type": "code",
   "execution_count": 7,
   "id": "1b6f35c5",
   "metadata": {},
   "outputs": [
    {
     "data": {
      "text/plain": [
       "11        kiwi\n",
       "8     honeydew\n",
       "dtype: object"
      ]
     },
     "execution_count": 7,
     "metadata": {},
     "output_type": "execute_result"
    }
   ],
   "source": [
    "fruits_series.sample(2)"
   ]
  },
  {
   "cell_type": "code",
   "execution_count": 8,
   "id": "3bdc44e6",
   "metadata": {},
   "outputs": [
    {
     "data": {
      "text/plain": [
       "count       17\n",
       "unique      13\n",
       "top       kiwi\n",
       "freq         4\n",
       "dtype: object"
      ]
     },
     "execution_count": 8,
     "metadata": {},
     "output_type": "execute_result"
    }
   ],
   "source": [
    "# 6. Run the `.describe()` on fruits to see what information it returns when called on a  Series with string values.\n",
    "fruits_series.describe()"
   ]
  },
  {
   "cell_type": "code",
   "execution_count": 9,
   "id": "8db420cf",
   "metadata": {},
   "outputs": [
    {
     "data": {
      "text/plain": [
       "array(['kiwi', 'mango', 'strawberry', 'pineapple', 'gala apple',\n",
       "       'honeycrisp apple', 'tomato', 'watermelon', 'honeydew',\n",
       "       'blueberry', 'blackberry', 'gooseberry', 'papaya'], dtype=object)"
      ]
     },
     "execution_count": 9,
     "metadata": {},
     "output_type": "execute_result"
    }
   ],
   "source": [
    "# 7. Run the code necessary to produce only the unique string values from fruits.\n",
    "fruits_series.unique()"
   ]
  },
  {
   "cell_type": "code",
   "execution_count": 10,
   "id": "7c3bb7c7",
   "metadata": {},
   "outputs": [
    {
     "data": {
      "text/plain": [
       "kiwi                4\n",
       "mango               2\n",
       "strawberry          1\n",
       "pineapple           1\n",
       "gala apple          1\n",
       "honeycrisp apple    1\n",
       "tomato              1\n",
       "watermelon          1\n",
       "honeydew            1\n",
       "blueberry           1\n",
       "blackberry          1\n",
       "gooseberry          1\n",
       "papaya              1\n",
       "dtype: int64"
      ]
     },
     "execution_count": 10,
     "metadata": {},
     "output_type": "execute_result"
    }
   ],
   "source": [
    "# 8. Determine how many times each unique string value occurs in fruits.\n",
    "fruits_series.value_counts()"
   ]
  },
  {
   "cell_type": "code",
   "execution_count": 11,
   "id": "c64f4284",
   "metadata": {},
   "outputs": [
    {
     "data": {
      "text/plain": [
       "kiwi    4\n",
       "dtype: int64"
      ]
     },
     "execution_count": 11,
     "metadata": {},
     "output_type": "execute_result"
    }
   ],
   "source": [
    "# 9. Determine the string value that occurs most frequently in fruits.\n",
    "fruits_series.value_counts().head(1)\n",
    "\n",
    "# Rev fruits.value_counts().nlargest(n = 1)\n",
    "# fruits.value_counts().idmax()"
   ]
  },
  {
   "cell_type": "code",
   "execution_count": 12,
   "id": "e69204b6",
   "metadata": {},
   "outputs": [
    {
     "data": {
      "text/plain": [
       "papaya    1\n",
       "dtype: int64"
      ]
     },
     "execution_count": 12,
     "metadata": {},
     "output_type": "execute_result"
    }
   ],
   "source": [
    "# 10. Determine the string value that occurs least frequently in fruits.\n",
    "fruits_series.value_counts().tail(1)\n",
    "# Rev fruits.value_counts().nsmallest(n = 1, keep = 'all')\n",
    "# fruits.value_counts().idmax()"
   ]
  },
  {
   "cell_type": "code",
   "execution_count": 13,
   "id": "fda05c5c",
   "metadata": {},
   "outputs": [
    {
     "data": {
      "text/plain": [
       "0                 KIWI\n",
       "1                MANGO\n",
       "2           STRAWBERRY\n",
       "3            PINEAPPLE\n",
       "4           GALA APPLE\n",
       "5     HONEYCRISP APPLE\n",
       "6               TOMATO\n",
       "7           WATERMELON\n",
       "8             HONEYDEW\n",
       "9                 KIWI\n",
       "10                KIWI\n",
       "11                KIWI\n",
       "12               MANGO\n",
       "13           BLUEBERRY\n",
       "14          BLACKBERRY\n",
       "15          GOOSEBERRY\n",
       "16              PAPAYA\n",
       "dtype: object"
      ]
     },
     "execution_count": 13,
     "metadata": {},
     "output_type": "execute_result"
    }
   ],
   "source": [
    "# Exercises Part II\n",
    "# Explore more attributes and methods while you continue to work with the fruits Series.\n",
    "\n",
    "# 1. Capitalize all the string values in fruits.\n",
    "\n",
    "fruits_series.str.upper()\n"
   ]
  },
  {
   "cell_type": "code",
   "execution_count": 14,
   "id": "8fd5d43f",
   "metadata": {},
   "outputs": [
    {
     "name": "stdout",
     "output_type": "stream",
     "text": [
      "14\n"
     ]
    },
    {
     "data": {
      "text/plain": [
       "1                mango\n",
       "2           strawberry\n",
       "3            pineapple\n",
       "4           gala apple\n",
       "5     honeycrisp apple\n",
       "6               tomato\n",
       "7           watermelon\n",
       "12               mango\n",
       "14          blackberry\n",
       "16              papaya\n",
       "dtype: object"
      ]
     },
     "execution_count": 14,
     "metadata": {},
     "output_type": "execute_result"
    }
   ],
   "source": [
    "# 2. Count the letter \"a\" in all the string values (use string vectorization).\n",
    "print(fruits_series.str.count('a').sum())\n",
    "\n",
    "\n",
    "contains_a =(lambda x : x.count('a') > 0)\n",
    "fruits_series.apply(lambda x : x.count('a') > 0)\n",
    "\n",
    "fruits_series[fruits_series.apply(lambda x: x.count('a') > 0)]\n"
   ]
  },
  {
   "cell_type": "code",
   "execution_count": 15,
   "id": "ffc954d8",
   "metadata": {
    "scrolled": true
   },
   "outputs": [
    {
     "name": "stdout",
     "output_type": "stream",
     "text": [
      "0                 kiwi\n",
      "1                mango\n",
      "2           strawberry\n",
      "3            pineapple\n",
      "4           gala apple\n",
      "5     honeycrisp apple\n",
      "6               tomato\n",
      "7           watermelon\n",
      "8             honeydew\n",
      "9                 kiwi\n",
      "10                kiwi\n",
      "11                kiwi\n",
      "12               mango\n",
      "13           blueberry\n",
      "14          blackberry\n",
      "15          gooseberry\n",
      "16              papaya\n",
      "dtype: object\n",
      "0     2\n",
      "1     2\n",
      "2     2\n",
      "3     4\n",
      "4     4\n",
      "5     5\n",
      "6     3\n",
      "7     4\n",
      "8     3\n",
      "9     2\n",
      "10    2\n",
      "11    2\n",
      "12    2\n",
      "13    3\n",
      "14    2\n",
      "15    4\n",
      "16    3\n",
      "dtype: int64\n"
     ]
    }
   ],
   "source": [
    "# 3. Output the number of vowels in each and every string value.\n",
    "print(fruits_series)\n",
    "print(fruits_series.str.count('[aeiou]'))\n",
    "\n",
    "# Rev   def count_vowels(string):\n",
    "#             count = 0\n",
    "            "
   ]
  },
  {
   "cell_type": "code",
   "execution_count": 16,
   "id": "82010387",
   "metadata": {},
   "outputs": [
    {
     "name": "stdout",
     "output_type": "stream",
     "text": [
      "5    16\n",
      "dtype: int64\n",
      "honeycrisp apple\n"
     ]
    },
    {
     "data": {
      "text/plain": [
       "'honeycrisp apple'"
      ]
     },
     "execution_count": 16,
     "metadata": {},
     "output_type": "execute_result"
    }
   ],
   "source": [
    "# 4. Write the code to get the longest string value from fruits.\n",
    "fruits_series.str.len().nlargest(n=1, keep='first')\n",
    "print(fruits_series.str.len().nlargest(n=1, keep='first'))\n",
    "print(fruits_series[5])\n",
    "\n",
    "max(fruits_series.values, key = len)\n",
    "\n",
    "\n"
   ]
  },
  {
   "cell_type": "code",
   "execution_count": 17,
   "id": "7b589c16",
   "metadata": {},
   "outputs": [],
   "source": [
    "# 3R. fruits_series.str.len().max()\n",
    "# fruits_series.str.len().idmax()"
   ]
  },
  {
   "cell_type": "code",
   "execution_count": 18,
   "id": "9d2cef2b",
   "metadata": {},
   "outputs": [
    {
     "data": {
      "text/plain": [
       "1                mango\n",
       "2           strawberry\n",
       "3            pineapple\n",
       "4           gala apple\n",
       "5     honeycrisp apple\n",
       "6               tomato\n",
       "7           watermelon\n",
       "8             honeydew\n",
       "12               mango\n",
       "13           blueberry\n",
       "14          blackberry\n",
       "15          gooseberry\n",
       "16              papaya\n",
       "dtype: object"
      ]
     },
     "execution_count": 18,
     "metadata": {},
     "output_type": "execute_result"
    }
   ],
   "source": [
    "# 5. Write the code to get the string values with 5 or more letters in the name.\n",
    "fruits_series[fruits_series.str.len() >= 5]"
   ]
  },
  {
   "cell_type": "code",
   "execution_count": 19,
   "id": "1c604dc0",
   "metadata": {},
   "outputs": [
    {
     "name": "stdout",
     "output_type": "stream",
     "text": [
      "6         tomato\n",
      "15    gooseberry\n",
      "dtype: object\n"
     ]
    },
    {
     "data": {
      "text/plain": [
       "6         tomato\n",
       "15    gooseberry\n",
       "dtype: object"
      ]
     },
     "execution_count": 19,
     "metadata": {},
     "output_type": "execute_result"
    }
   ],
   "source": [
    "# 6. Use the .apply method with a lambda function to find the fruit(s) containing the letter \"o\" two or more times.\n",
    "print(fruits_series[(fruits_series.str.count('o') > 1)])\n",
    "\n",
    "\n",
    "\n",
    "def double_o(n):\n",
    "    if n.count('o') > 1:\n",
    "        return True\n",
    "    else:\n",
    "        return False\n",
    "        \n",
    "fruits_series[fruits_series.apply(double_o)]\n",
    "\n",
    "# double_o = fruits_series[(fruits_series.str.count('o') > 1)]\n",
    "\n",
    "# fruits_series.apply(lambda n: if double_o > 1)\n",
    "\n",
    "# fruits_series.apply(lambda n : fruits_series[n] if (fruits_series.str.count('o') > 1))\n",
    "\n"
   ]
  },
  {
   "cell_type": "code",
   "execution_count": null,
   "id": "de185603",
   "metadata": {},
   "outputs": [],
   "source": []
  },
  {
   "cell_type": "code",
   "execution_count": 20,
   "id": "be2d5121",
   "metadata": {},
   "outputs": [
    {
     "data": {
      "text/plain": [
       "2     strawberry\n",
       "13     blueberry\n",
       "14    blackberry\n",
       "15    gooseberry\n",
       "dtype: object"
      ]
     },
     "execution_count": 20,
     "metadata": {},
     "output_type": "execute_result"
    }
   ],
   "source": [
    "# 7. Write the code to get only the string values containing the substring \"berry\".\n",
    "fruits_series[fruits_series.str.contains(\"berry\")]"
   ]
  },
  {
   "cell_type": "code",
   "execution_count": 21,
   "id": "38340b72",
   "metadata": {},
   "outputs": [
    {
     "data": {
      "text/plain": [
       "3           pineapple\n",
       "4          gala apple\n",
       "5    honeycrisp apple\n",
       "dtype: object"
      ]
     },
     "execution_count": 21,
     "metadata": {},
     "output_type": "execute_result"
    }
   ],
   "source": [
    "# 8. Write the code to get only the string values containing the substring \"apple\".\n",
    "fruits_series[fruits_series.str.contains(\"apple\")]"
   ]
  },
  {
   "cell_type": "code",
   "execution_count": 22,
   "id": "aefc1b76",
   "metadata": {},
   "outputs": [
    {
     "name": "stdout",
     "output_type": "stream",
     "text": [
      "5    5\n",
      "dtype: int64\n",
      "honeycrisp apple\n"
     ]
    }
   ],
   "source": [
    "# 9. Which string value contains the most vowels?\n",
    "\n",
    "print(fruits_series.str.count('[aeiou]').nlargest(n = 1))\n",
    "print(fruits_series[5])"
   ]
  },
  {
   "cell_type": "code",
   "execution_count": 23,
   "id": "8207a7e2",
   "metadata": {},
   "outputs": [
    {
     "name": "stdout",
     "output_type": "stream",
     "text": [
      "0      h\n",
      "1      n\n",
      "2      v\n",
      "3      i\n",
      "4      d\n",
      "      ..\n",
      "195    r\n",
      "196    o\n",
      "197    g\n",
      "198    u\n",
      "199    y\n",
      "Length: 200, dtype: object\n"
     ]
    },
    {
     "data": {
      "text/plain": [
       "y    13\n",
       "p    12\n",
       "w    10\n",
       "b     9\n",
       "n     9\n",
       "k     9\n",
       "m     9\n",
       "r     8\n",
       "a     8\n",
       "o     8\n",
       "h     8\n",
       "x     8\n",
       "q     8\n",
       "c     8\n",
       "d     8\n",
       "u     7\n",
       "v     7\n",
       "t     7\n",
       "z     7\n",
       "e     6\n",
       "f     6\n",
       "j     6\n",
       "g     5\n",
       "i     5\n",
       "s     5\n",
       "l     4\n",
       "dtype: int64"
      ]
     },
     "execution_count": 23,
     "metadata": {},
     "output_type": "execute_result"
    }
   ],
   "source": [
    "# Exercises Part III\n",
    "# Use pandas to create a Series named letters from the following string. The easiest way to make this string into a Pandas series is to use list to convert each individual letter into a single string on a basic Python list.\n",
    "\n",
    "letters = pd.Series(list('hnvidduckkqxwymbimkccexbkmqygkxoyndmcxnwqarhyffsjpsrabtjzsypmzadfavyrnndndvswreauxovncxtwzpwejilzjrmmbbgbyxvjtewqthafnbkqplarokkyydtubbmnexoypulzwfhqvckdpqtpoppzqrmcvhhpwgjwupgzhiofohawytlsiyecuproguy'))\n",
    "print(letters)\n",
    "\n",
    "\n",
    "# 1. Which letter occurs the most frequently in the letters Series?\n",
    "letters.value_counts()\n",
    "\n"
   ]
  },
  {
   "cell_type": "code",
   "execution_count": 24,
   "id": "507194fd",
   "metadata": {},
   "outputs": [
    {
     "data": {
      "text/plain": [
       "l    4\n",
       "dtype: int64"
      ]
     },
     "execution_count": 24,
     "metadata": {},
     "output_type": "execute_result"
    }
   ],
   "source": [
    "# 2. Which letter occurs the Least frequently?\n",
    "letters.value_counts().tail(1)\n",
    "\n"
   ]
  },
  {
   "cell_type": "code",
   "execution_count": 25,
   "id": "e57c7b76",
   "metadata": {},
   "outputs": [
    {
     "name": "stdout",
     "output_type": "stream",
     "text": [
      "34\n"
     ]
    }
   ],
   "source": [
    "# 3. How many vowels are in the Series?\n",
    "print(letters.str.count('[aeiou]').sum())\n",
    "\n"
   ]
  },
  {
   "cell_type": "code",
   "execution_count": 26,
   "id": "ce92e3fe",
   "metadata": {},
   "outputs": [
    {
     "name": "stdout",
     "output_type": "stream",
     "text": [
      "166\n"
     ]
    }
   ],
   "source": [
    "# 4. How many consonants are in the Series?\n",
    "print((len(letters)) - letters.str.count('[aeiou]').sum())"
   ]
  },
  {
   "cell_type": "code",
   "execution_count": 27,
   "id": "72dbc4e4",
   "metadata": {},
   "outputs": [
    {
     "name": "stdout",
     "output_type": "stream",
     "text": [
      "0      H\n",
      "1      N\n",
      "2      V\n",
      "3      I\n",
      "4      D\n",
      "      ..\n",
      "195    R\n",
      "196    O\n",
      "197    G\n",
      "198    U\n",
      "199    Y\n",
      "Length: 200, dtype: object\n"
     ]
    }
   ],
   "source": [
    "# 5. Create a Series that has all of the same letters but uppercased.\n",
    "uppers = letters.str.upper()\n",
    "print(uppers)"
   ]
  },
  {
   "cell_type": "code",
   "execution_count": 28,
   "id": "9f3fcc2f",
   "metadata": {},
   "outputs": [
    {
     "data": {
      "text/plain": [
       "<AxesSubplot:>"
      ]
     },
     "execution_count": 28,
     "metadata": {},
     "output_type": "execute_result"
    },
    {
     "data": {
      "image/png": "[encoded data removed]",
      "text/plain": [
       "<Figure size 432x288 with 1 Axes>"
      ]
     },
     "metadata": {
      "needs_background": "light"
     },
     "output_type": "display_data"
    }
   ],
   "source": [
    "# 6. Create a bar plot of the frequencies of the 6 most commonly occuring letters.\n",
    "\n",
    "letters.value_counts().nlargest(n = 6, keep = 'first').plot.bar(rot=0)\n",
    "\n",
    "\n"
   ]
  },
  {
   "cell_type": "code",
   "execution_count": 29,
   "id": "064455b2",
   "metadata": {},
   "outputs": [
    {
     "data": {
      "text/plain": [
       "str"
      ]
     },
     "execution_count": 29,
     "metadata": {},
     "output_type": "execute_result"
    }
   ],
   "source": [
    "n =  ['$796,459.41', '$278.60', '$482,571.67', '$4,503,915.98', '$2,121,418.3', '$1,260,813.3', '$87,231.01', '$1,509,175.45', '$4,138,548.00', '$2,848,913.80', '$594,715.39', '$4,789,988.17', '$4,513,644.5', '$3,191,059.97', '$1,758,712.24', '$4,338,283.54', '$4,738,303.38', '$2,791,759.67', '$769,681.94', '$452,650.23']\n",
    "numbers = pd.Series(n)\n",
    "\n",
    "\n",
    "# 7. What is the data type of the numbers Series?\n",
    "\n",
    "type(numbers[0])\n",
    "\n"
   ]
  },
  {
   "cell_type": "code",
   "execution_count": 30,
   "id": "37d26ecd",
   "metadata": {},
   "outputs": [
    {
     "data": {
      "text/plain": [
       "20"
      ]
     },
     "execution_count": 30,
     "metadata": {},
     "output_type": "execute_result"
    }
   ],
   "source": [
    "# 8. How many elements are in the number Series?\n",
    "\n",
    "len(numbers)\n"
   ]
  },
  {
   "cell_type": "code",
   "execution_count": 31,
   "id": "6a860ced",
   "metadata": {},
   "outputs": [],
   "source": [
    "# f_numbers = numbers.tolist()\n",
    "# print(type(f_numbers[0]))\n",
    "# f_numbers\n"
   ]
  },
  {
   "cell_type": "code",
   "execution_count": 32,
   "id": "1678aeb8",
   "metadata": {},
   "outputs": [
    {
     "name": "stdout",
     "output_type": "stream",
     "text": [
      "<class 'numpy.float64'>\n",
      "0      796459.41\n",
      "1         278.60\n",
      "2      482571.67\n",
      "3     4503915.98\n",
      "4     2121418.30\n",
      "5     1260813.30\n",
      "6       87231.01\n",
      "7     1509175.45\n",
      "8     4138548.00\n",
      "9     2848913.80\n",
      "10     594715.39\n",
      "11    4789988.17\n",
      "12    4513644.50\n",
      "13    3191059.97\n",
      "14    1758712.24\n",
      "15    4338283.54\n",
      "16    4738303.38\n",
      "17    2791759.67\n",
      "18     769681.94\n",
      "19     452650.23\n",
      "dtype: float64\n"
     ]
    }
   ],
   "source": [
    "# 9. Perform the necessary manipulations by accessing Series attributes and methods to convert the numbers Series to a numeric data type.\n",
    "def handle_commas(comma_sep):\n",
    "    # if statement that tests if parameter for comma_sep is not a string type.\n",
    "    if type(comma_sep) != str:\n",
    "        # returns 'Must be a string' if previous statement is true\n",
    "        return 'Must be a string'\n",
    "    # any commas in original comma_sep value are replaced by a none value and sets comma_sep as this transformed value\n",
    "    comma_sep = comma_sep.replace(',', '')\n",
    "    comma_sep = comma_sep.replace('$', '')\n",
    "    # checks to see if values in comma_sep are digits\n",
    "    if comma_sep.isdigit():\n",
    "        # if they are digits it converts them to a float value\n",
    "        return float(comma_sep)\n",
    "    else:\n",
    "        # if there are non-digits it states that it needs to be an integer that's a string\n",
    "        return float(comma_sep)\n",
    "\n",
    "\n",
    "clean_numbers = numbers.apply(handle_commas)\n",
    "clean_numbers = pd.Series(clean_numbers)\n",
    "print(type(clean_numbers[1]))\n",
    "print(clean_numbers)\n"
   ]
  },
  {
   "cell_type": "code",
   "execution_count": null,
   "id": "12045757",
   "metadata": {},
   "outputs": [],
   "source": []
  },
  {
   "cell_type": "code",
   "execution_count": null,
   "id": "4dddb250",
   "metadata": {},
   "outputs": [],
   "source": []
  },
  {
   "cell_type": "code",
   "execution_count": 33,
   "id": "87a100d3",
   "metadata": {},
   "outputs": [
    {
     "data": {
      "text/plain": [
       "4789988.17"
      ]
     },
     "execution_count": 33,
     "metadata": {},
     "output_type": "execute_result"
    }
   ],
   "source": [
    "# 10. Run the code to discover the maximum value from the Series.\n",
    "clean_numbers.max()"
   ]
  },
  {
   "cell_type": "code",
   "execution_count": 34,
   "id": "2607ce00",
   "metadata": {},
   "outputs": [
    {
     "data": {
      "text/plain": [
       "278.6"
      ]
     },
     "execution_count": 34,
     "metadata": {},
     "output_type": "execute_result"
    }
   ],
   "source": [
    "# 11. Run the code to discover the minimum value from the Series.\n",
    "clean_numbers.min()"
   ]
  },
  {
   "cell_type": "code",
   "execution_count": 35,
   "id": "fda53a65",
   "metadata": {},
   "outputs": [
    {
     "data": {
      "text/plain": [
       "20"
      ]
     },
     "execution_count": 35,
     "metadata": {},
     "output_type": "execute_result"
    }
   ],
   "source": [
    "# 12. What is the range of the values in the Series?\n",
    "clean_numbers.size"
   ]
  },
  {
   "cell_type": "code",
   "execution_count": 36,
   "id": "1e2600a5",
   "metadata": {},
   "outputs": [
    {
     "name": "stdout",
     "output_type": "stream",
     "text": [
      "0        (-4511.11, 1197705.993]\n",
      "1        (-4511.11, 1197705.993]\n",
      "2        (-4511.11, 1197705.993]\n",
      "3      (3592560.778, 4789988.17]\n",
      "4     (1197705.993, 2395133.385]\n",
      "5     (1197705.993, 2395133.385]\n",
      "6        (-4511.11, 1197705.993]\n",
      "7     (1197705.993, 2395133.385]\n",
      "8      (3592560.778, 4789988.17]\n",
      "9     (2395133.385, 3592560.778]\n",
      "10       (-4511.11, 1197705.993]\n",
      "11     (3592560.778, 4789988.17]\n",
      "12     (3592560.778, 4789988.17]\n",
      "13    (2395133.385, 3592560.778]\n",
      "14    (1197705.993, 2395133.385]\n",
      "15     (3592560.778, 4789988.17]\n",
      "16     (3592560.778, 4789988.17]\n",
      "17    (2395133.385, 3592560.778]\n",
      "18       (-4511.11, 1197705.993]\n",
      "19       (-4511.11, 1197705.993]\n",
      "dtype: category\n",
      "Categories (4, interval[float64, right]): [(-4511.11, 1197705.993] < (1197705.993, 2395133.385] < (2395133.385, 3592560.778] < (3592560.778, 4789988.17]]\n",
      "(-4511.111, 1197705.993]      7\n",
      "(3592560.778, 4789988.17]     6\n",
      "(1197705.993, 2395133.385]    4\n",
      "(2395133.385, 3592560.778]    3\n",
      "dtype: int64\n"
     ]
    }
   ],
   "source": [
    "# 13. Bin the data into 4 equally sized intervals or bins and output how many values fall into each bin.\n",
    "print(pd.cut(clean_numbers, 4))\n",
    "numbers_4bins = (clean_numbers.value_counts(bins = 4))\n",
    "print(numbers_4bins)"
   ]
  },
  {
   "cell_type": "code",
   "execution_count": 37,
   "id": "d0d63510",
   "metadata": {},
   "outputs": [
    {
     "data": {
      "text/plain": [
       "Text(0, 0.5, 'Prices')"
      ]
     },
     "execution_count": 37,
     "metadata": {},
     "output_type": "execute_result"
    },
    {
     "data": {
      "image/png": "[encoded data removed]",
      "text/plain": [
       "<Figure size 432x288 with 1 Axes>"
      ]
     },
     "metadata": {
      "needs_background": "light"
     },
     "output_type": "display_data"
    }
   ],
   "source": [
    "# 14. Plot the binned data in a meaningful way. Be sure to include a title and axis labels.\n",
    "\n",
    "numbers_4bins.plot.bar(rot=0)\n",
    "plt.title('Prices in 4 even bins')\n",
    "plt.xlabel('Bins')\n",
    "plt.ylabel('Prices')\n"
   ]
  },
  {
   "cell_type": "code",
   "execution_count": 38,
   "id": "ef55bef9",
   "metadata": {},
   "outputs": [
    {
     "name": "stdout",
     "output_type": "stream",
     "text": [
      "0     60\n",
      "1     86\n",
      "2     75\n",
      "3     62\n",
      "4     93\n",
      "5     71\n",
      "6     60\n",
      "7     83\n",
      "8     95\n",
      "9     78\n",
      "10    65\n",
      "11    72\n",
      "12    69\n",
      "13    81\n",
      "14    96\n",
      "15    80\n",
      "16    85\n",
      "17    92\n",
      "18    82\n",
      "19    78\n",
      "dtype: int64\n"
     ]
    },
    {
     "data": {
      "text/plain": [
       "20"
      ]
     },
     "execution_count": 38,
     "metadata": {},
     "output_type": "execute_result"
    }
   ],
   "source": [
    "# Use pandas to create a Series named exam_scores from the following list:\n",
    "\n",
    "e = [60, 86, 75, 62, 93, 71, 60, 83, 95, 78, 65, 72, 69, 81, 96, 80, 85, 92, 82, 78]\n",
    "\n",
    "exam_scores = pd.Series(e)\n",
    "print(exam_scores)\n",
    "# 15. How many elements are in the exam_scores Series?\n",
    "\n",
    "exam_scores.size\n",
    "\n",
    "\n",
    "\n"
   ]
  },
  {
   "cell_type": "code",
   "execution_count": 39,
   "id": "31e622c3",
   "metadata": {},
   "outputs": [
    {
     "name": "stdout",
     "output_type": "stream",
     "text": [
      "60\n",
      "96\n",
      "78.15\n",
      "78.15\n"
     ]
    }
   ],
   "source": [
    "# 16. Run the code to discover the minimum, the maximum, the mean, and the median scores for the exam_scores Series.\n",
    "\n",
    "print(exam_scores.min())\n",
    "print(exam_scores.max())\n",
    "print(exam_scores.mean())\n",
    "print(exam_scores.mean())"
   ]
  },
  {
   "cell_type": "code",
   "execution_count": 40,
   "id": "48bee3a8",
   "metadata": {},
   "outputs": [
    {
     "data": {
      "text/plain": [
       "Text(0, 0.5, 'Scores')"
      ]
     },
     "execution_count": 40,
     "metadata": {},
     "output_type": "execute_result"
    },
    {
     "data": {
      "image/png": "[encoded data removed]",
      "text/plain": [
       "<Figure size 432x288 with 1 Axes>"
      ]
     },
     "metadata": {
      "needs_background": "light"
     },
     "output_type": "display_data"
    }
   ],
   "source": [
    "# 17. Plot the Series in a meaningful way and make sure your chart has a title and axis labels.\n",
    "exam_scores.plot.bar(rot=0)\n",
    "plt.title('Exam scores')\n",
    "plt.xlabel('Tests')\n",
    "plt.ylabel('Scores')\n"
   ]
  },
  {
   "cell_type": "code",
   "execution_count": 41,
   "id": "3eb90bfb",
   "metadata": {},
   "outputs": [
    {
     "data": {
      "text/plain": [
       "<AxesSubplot:ylabel='Frequency'>"
      ]
     },
     "execution_count": 41,
     "metadata": {},
     "output_type": "execute_result"
    },
    {
     "data": {
      "image/png": "[encoded data removed]",
      "text/plain": [
       "<Figure size 432x288 with 1 Axes>"
      ]
     },
     "metadata": {
      "needs_background": "light"
     },
     "output_type": "display_data"
    }
   ],
   "source": [
    "# R17\n",
    "exam_scores.plot.hist()"
   ]
  },
  {
   "cell_type": "code",
   "execution_count": 42,
   "id": "ec306978",
   "metadata": {},
   "outputs": [
    {
     "data": {
      "text/plain": [
       "0      64\n",
       "1      90\n",
       "2      79\n",
       "3      66\n",
       "4      97\n",
       "5      75\n",
       "6      64\n",
       "7      87\n",
       "8      99\n",
       "9      82\n",
       "10     69\n",
       "11     76\n",
       "12     73\n",
       "13     85\n",
       "14    100\n",
       "15     84\n",
       "16     89\n",
       "17     96\n",
       "18     86\n",
       "19     82\n",
       "dtype: int64"
      ]
     },
     "execution_count": 42,
     "metadata": {},
     "output_type": "execute_result"
    }
   ],
   "source": [
    "# 18. Write the code necessary to implement a curve for your exam_grades Series and save this as curved_grades. Add the necessary points to the highest grade to make it 100, and add the same number of points to every other score in the Series as well.\n",
    "curved_grades = exam_scores + (100 - (exam_scores.max()))\n",
    "curved_grades"
   ]
  },
  {
   "cell_type": "code",
   "execution_count": 43,
   "id": "7d8f750b",
   "metadata": {},
   "outputs": [
    {
     "data": {
      "text/plain": [
       "0      64\n",
       "1      90\n",
       "2      79\n",
       "3      66\n",
       "4      97\n",
       "5      75\n",
       "6      64\n",
       "7      87\n",
       "8      99\n",
       "9      82\n",
       "10     69\n",
       "11     76\n",
       "12     73\n",
       "13     85\n",
       "14    100\n",
       "15     84\n",
       "16     89\n",
       "17     96\n",
       "18     86\n",
       "19     82\n",
       "dtype: int64"
      ]
     },
     "execution_count": 43,
     "metadata": {},
     "output_type": "execute_result"
    }
   ],
   "source": [
    "# R18\n",
    "curve = 100 - exam_scores.max(0)\n",
    "curved_grade = exam_scores + curve\n",
    "curved_grade"
   ]
  },
  {
   "cell_type": "code",
   "execution_count": 44,
   "id": "400181e9",
   "metadata": {},
   "outputs": [
    {
     "name": "stdout",
     "output_type": "stream",
     "text": [
      "D\n",
      "A\n",
      "C\n",
      "D\n",
      "A\n",
      "C\n",
      "D\n",
      "B\n",
      "A\n",
      "B\n",
      "D\n",
      "C\n",
      "C\n",
      "B\n",
      "A\n",
      "B\n",
      "B\n",
      "A\n",
      "B\n",
      "B\n",
      "0     None\n",
      "1     None\n",
      "2     None\n",
      "3     None\n",
      "4     None\n",
      "5     None\n",
      "6     None\n",
      "7     None\n",
      "8     None\n",
      "9     None\n",
      "10    None\n",
      "11    None\n",
      "12    None\n",
      "13    None\n",
      "14    None\n",
      "15    None\n",
      "16    None\n",
      "17    None\n",
      "18    None\n",
      "19    None\n",
      "dtype: object\n",
      "<class 'NoneType'>\n"
     ]
    }
   ],
   "source": [
    "# 19. Use a method to convert each of the numeric values in the curved_grades Series into a categorical value of letter grades. For example, 86 should be a 'B' and 95 should be an 'A'. Save this as a Series named letter_grades.\n",
    "def get_letter_grade(num_grade):\n",
    "    # sets letter_grade equal to original parameter\n",
    "    letter_grade = num_grade\n",
    "    # checks if paramter represented by letter_grade is 90 or greater\n",
    "    if letter_grade >= 90:\n",
    "        print(\"A\")\n",
    "    # checks if paramter represented by letter_grade is 80 or greater\n",
    "    elif letter_grade >= 80:\n",
    "        print(\"B\")\n",
    "    # checks if paramter represented by letter_grade is 70 or greater\n",
    "    elif letter_grade >= 70:\n",
    "        print(\"C\")\n",
    "    # checks if paramter represented by letter_grade is 60 or greater\n",
    "    elif letter_grade >= 60:\n",
    "        print(\"D\")\n",
    "    # checks if paramter represented by letter_grade is 0 or greater\n",
    "    elif letter_grade >= 0:\n",
    "        print(\"F\")\n",
    "    else:\n",
    "        # prints \"You got a F\" if all above are False\n",
    "        print(\"Please type in a number\")\n",
    "        \n",
    "            \n",
    "                     \n",
    "letter_grades = curved_grades.apply(get_letter_grade)\n",
    "print(letter_grades)\n",
    "print(type(letter_grades[1]))"
   ]
  },
  {
   "cell_type": "code",
   "execution_count": 45,
   "id": "ab21868d",
   "metadata": {},
   "outputs": [],
   "source": [
    "# R19\n",
    "bins = [0, 60, 70, 80, 90, 100]\n",
    "\n",
    "labels = ['F', 'D', 'C', 'B', 'A']"
   ]
  },
  {
   "cell_type": "code",
   "execution_count": 46,
   "id": "dee1a86c",
   "metadata": {},
   "outputs": [
    {
     "data": {
      "text/plain": [
       "<AxesSubplot:>"
      ]
     },
     "execution_count": 46,
     "metadata": {},
     "output_type": "execute_result"
    },
    {
     "data": {
      "image/png": "[encoded data removed]",
      "text/plain": [
       "<Figure size 432x288 with 1 Axes>"
      ]
     },
     "metadata": {
      "needs_background": "light"
     },
     "output_type": "display_data"
    }
   ],
   "source": [
    "# 20. Plot your new categorical letter_grades Series in a meaninful way and include a title and axis labels.\n",
    "\n",
    "pd.cut(curved_grades, bins = bins, labels = labels).value_counts().plot.barh()\n"
   ]
  },
  {
   "cell_type": "code",
   "execution_count": 47,
   "id": "1600d3fd",
   "metadata": {},
   "outputs": [],
   "source": [
    "# More Practice\n",
    "# Revisit the exercises from https://gist.github.com/ryanorsinger/f7d7c1dd6a328730c04f3dc5c5c69f3a.\n",
    "\n",
    "# After you complete each set of Series exercises, use any extra time you have to pursue the challenge below. You can work on these in the same notebook or file as the Series exercises or create a new practice notebook you can work in a little every day to keep your python and pandas skills sharp by trying to solve problems in multiple ways. These are not a part of the Series exercises grade, so don't worry if it takes you days or weeks to meet the challenge.\n",
    "\n",
    "# Challenge yourself to be able to...\n",
    "\n",
    "# solve each using vanilla python.\n",
    "\n",
    "# solve each using list comprehensions.\n",
    "\n",
    "# solve each by using a pandas Series for the data structure instead of lists and using vectorized operations instead of loops and list comprehensions."
   ]
  }
 ],
 "metadata": {
  "kernelspec": {
   "display_name": "Python 3 (ipykernel)",
   "language": "python",
   "name": "python3"
  },
  "language_info": {
   "codemirror_mode": {
    "name": "ipython",
    "version": 3
   },
   "file_extension": ".py",
   "mimetype": "text/x-python",
   "name": "python",
   "nbconvert_exporter": "python",
   "pygments_lexer": "ipython3",
   "version": "3.9.7"
  }
 },
 "nbformat": 4,
 "nbformat_minor": 5
}
